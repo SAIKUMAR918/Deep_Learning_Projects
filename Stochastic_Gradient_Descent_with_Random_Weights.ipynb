{
  "cells": [
    {
      "cell_type": "markdown",
      "metadata": {
        "id": "view-in-github",
        "colab_type": "text"
      },
      "source": [
        "<a href=\"https://colab.research.google.com/github/SAIKUMAR918/Deep_Learning_Projects/blob/main/Stochastic_Gradient_Descent_with_Random_Weights.ipynb\" target=\"_parent\"><img src=\"https://colab.research.google.com/assets/colab-badge.svg\" alt=\"Open In Colab\"/></a>"
      ]
    },
    {
      "cell_type": "markdown",
      "metadata": {
        "id": "OGYqX-wPCXJX"
      },
      "source": [
        "#### In this we understand and implemet gradient desecent.\n",
        "\n",
        "1. Towards this we consider a simple example, two input and one output\n",
        "2. We obseve the effect of learning rate for a given number of epochs"
      ]
    },
    {
      "cell_type": "markdown",
      "metadata": {
        "id": "tW9DiJB3CXJg"
      },
      "source": [
        "## Regression\n",
        "y = w1x1 + w2x2"
      ]
    },
    {
      "cell_type": "markdown",
      "metadata": {
        "id": "c-pUBoIa9l_i"
      },
      "source": [
        "## Importing Required Packages"
      ]
    },
    {
      "cell_type": "code",
      "execution_count": 1,
      "metadata": {
        "ExecuteTime": {
          "end_time": "2019-03-30T07:05:07.940536Z",
          "start_time": "2019-03-30T07:05:07.414372Z"
        },
        "id": "yvYYKm5uxxpK"
      },
      "outputs": [],
      "source": [
        "import numpy as np\n",
        "import matplotlib.pyplot as plt\n",
        "import pandas as pd\n",
        "import random"
      ]
    },
    {
      "cell_type": "markdown",
      "metadata": {
        "id": "FzP4a2BlxxpM"
      },
      "source": [
        "## Data"
      ]
    },
    {
      "cell_type": "code",
      "execution_count": 2,
      "metadata": {
        "ExecuteTime": {
          "end_time": "2019-03-30T07:05:07.949832Z",
          "start_time": "2019-03-30T07:05:07.944642Z"
        },
        "id": "C8ewmkrzxxpM"
      },
      "outputs": [],
      "source": [
        "x1, x2 = 6, 5\n",
        "y = 30\n",
        "# w1, w2 = 0.3, 0.3 # initial weights"
      ]
    },
    {
      "cell_type": "code",
      "execution_count": 3,
      "metadata": {
        "id": "PhT9JbtoxxpN"
      },
      "outputs": [],
      "source": [
        "w1 = random.random()"
      ]
    },
    {
      "cell_type": "code",
      "execution_count": 4,
      "metadata": {
        "colab": {
          "base_uri": "https://localhost:8080/"
        },
        "id": "CvQsFK4ExxpN",
        "outputId": "4f0e495e-1f83-491f-e31e-b2cc5ae15d75"
      },
      "outputs": [
        {
          "output_type": "execute_result",
          "data": {
            "text/plain": [
              "0.6760110657575061"
            ]
          },
          "metadata": {},
          "execution_count": 4
        }
      ],
      "source": [
        "w1"
      ]
    },
    {
      "cell_type": "code",
      "execution_count": 5,
      "metadata": {
        "id": "QkNxvW0PxxpO"
      },
      "outputs": [],
      "source": [
        "w2 = random.random()"
      ]
    },
    {
      "cell_type": "code",
      "execution_count": 6,
      "metadata": {
        "colab": {
          "base_uri": "https://localhost:8080/"
        },
        "id": "vrhAxTvfxxpP",
        "outputId": "962637ae-eaf9-4113-99e6-dec063972c34"
      },
      "outputs": [
        {
          "output_type": "execute_result",
          "data": {
            "text/plain": [
              "0.318711129499923"
            ]
          },
          "metadata": {},
          "execution_count": 6
        }
      ],
      "source": [
        "w2"
      ]
    },
    {
      "cell_type": "markdown",
      "metadata": {
        "id": "qOYu3Px5xxpP"
      },
      "source": [
        "## Predictions\n",
        "y = w1x1 + w2x2"
      ]
    },
    {
      "cell_type": "code",
      "execution_count": 7,
      "metadata": {
        "ExecuteTime": {
          "end_time": "2019-03-30T07:05:07.962700Z",
          "start_time": "2019-03-30T07:05:07.952534Z"
        },
        "colab": {
          "base_uri": "https://localhost:8080/"
        },
        "id": "mV3U_-ksxxpP",
        "outputId": "d5f4ba16-77e6-480f-dead-4e08dffd20d8"
      },
      "outputs": [
        {
          "output_type": "stream",
          "name": "stdout",
          "text": [
            "prediction  5.649622042044652\n"
          ]
        }
      ],
      "source": [
        "y_pred = w1*x1 + w2*x2\n",
        "print('prediction ',y_pred)"
      ]
    },
    {
      "cell_type": "markdown",
      "metadata": {
        "id": "bUmjiRguxxpQ"
      },
      "source": [
        "## Calculate cost/loss\n",
        "Loss function for regression is usually MSE"
      ]
    },
    {
      "cell_type": "code",
      "execution_count": 8,
      "metadata": {
        "ExecuteTime": {
          "end_time": "2019-03-30T07:05:07.967910Z",
          "start_time": "2019-03-30T07:05:07.964458Z"
        },
        "colab": {
          "base_uri": "https://localhost:8080/"
        },
        "id": "QHxs0wBUxxpQ",
        "outputId": "69d3d859-5ac5-4da2-ef1d-8c0fe692f407"
      },
      "outputs": [
        {
          "output_type": "stream",
          "name": "stdout",
          "text": [
            "     592.9409066952777\n"
          ]
        }
      ],
      "source": [
        "error = (y - y_pred)**2\n",
        "print('    ', error)"
      ]
    },
    {
      "cell_type": "markdown",
      "metadata": {
        "id": "75NqAX-hxxpQ"
      },
      "source": [
        "## Gradient descent"
      ]
    },
    {
      "cell_type": "code",
      "execution_count": 10,
      "metadata": {
        "ExecuteTime": {
          "end_time": "2019-03-30T07:05:07.980471Z",
          "start_time": "2019-03-30T07:05:07.970404Z"
        },
        "scrolled": true,
        "id": "UMgcN2iCxxpQ",
        "colab": {
          "base_uri": "https://localhost:8080/"
        },
        "outputId": "58e3a767-3dfd-4baa-88d5-c150e8586d6e"
      },
      "outputs": [
        {
          "output_type": "stream",
          "name": "stdout",
          "text": [
            "EPOCH = 0 ==> W1: 3.0711248539257414 || W2:  2.314639286306786 || Error = 2.9642484015985045e-09\n",
            "EPOCH = 1 ==> W1: 3.071125507264681 || W2:  2.314639830755902 || Error = 2.2850916648796794e-09\n",
            "EPOCH = 2 ==> W1: 3.0711260808962697 || W2:  2.314640308782226 || Error = 1.7615406032414008e-09\n",
            "EPOCH = 3 ==> W1: 3.0711265845448046 || W2:  2.3146407284893384 || Error = 1.3579434663121638e-09\n",
            "EPOCH = 4 ==> W1: 3.0711270267482185 || W2:  2.314641096992183 || Error = 1.0468168910505619e-09\n",
            "EPOCH = 5 ==> W1: 3.071127415002816 || W2:  2.314641420537681 || Error = 8.06974392153424e-10\n",
            "EPOCH = 6 ==> W1: 3.0711277558903523 || W2:  2.314641704610628 || Error = 6.220836473044958e-10\n",
            "EPOCH = 7 ==> W1: 3.071128055189609 || W2:  2.3146419540266754 || Error = 4.79554330373347e-10\n",
            "EPOCH = 8 ==> W1: 3.071128317974357 || W2:  2.314642173013965 || Error = 3.6968076035705523e-10\n",
            "EPOCH = 9 ==> W1: 3.0711285486993654 || W2:  2.314642365284805 || Error = 2.849809833462548e-10\n",
            "EPOCH = 10 ==> W1: 3.0711287512759227 || W2:  2.3146425340986028 || Error = 2.196872804377195e-10\n",
            "EPOCH = 11 ==> W1: 3.07112892913814 || W2:  2.314642682317117 || Error = 1.6935340945818334e-10\n",
            "EPOCH = 12 ==> W1: 3.071129085301167 || W2:  2.314642812452973 || Error = 1.3055183360843171e-10\n",
            "EPOCH = 13 ==> W1: 3.0711292224123046 || W2:  2.314642926712254 || Error = 1.0064031978408458e-10\n",
            "EPOCH = 14 ==> W1: 3.0711293427958832 || W2:  2.314643027031903 || Error = 7.75820123148615e-11\n",
            "EPOCH = 15 ==> W1: 3.0711294484926657 || W2:  2.314643115112555 || Error = 5.980673198385738e-11\n",
            "EPOCH = 16 ==> W1: 3.0711295412944404 || W2:  2.314643192447367 || Error = 4.6104052725573495e-11\n",
            "EPOCH = 17 ==> W1: 3.0711296227743987 || W2:  2.3146432603473324 || Error = 3.554087660942793e-11\n",
            "EPOCH = 18 ==> W1: 3.071129694313802 || W2:  2.3146433199635017 || Error = 2.739789312053743e-11\n",
            "EPOCH = 19 ==> W1: 3.071129757125398 || W2:  2.3146433723064983 || Error = 2.1120597452088002e-11\n",
            "EPOCH = 20 ==> W1: 3.071129812273979 || W2:  2.3146434182636493 || Error = 1.628153065577407e-11\n",
            "EPOCH = 21 ==> W1: 3.0711298606944335 || W2:  2.314643458614028 || Error = 1.2551171513891872e-11\n",
            "EPOCH = 22 ==> W1: 3.0711299032075927 || W2:  2.3146434940416603 || Error = 9.675497304232455e-12\n",
            "EPOCH = 23 ==> W1: 3.0711299405341466 || W2:  2.3146435251471216 || Error = 7.458686047691874e-12\n",
            "EPOCH = 24 ==> W1: 3.071129973306861 || W2:  2.3146435524577167 || Error = 5.749781722649013e-12\n",
            "EPOCH = 25 ==> W1: 3.0711300020813037 || W2:  2.3146435764364193 || Error = 4.4324147571780456e-12\n",
            "EPOCH = 26 ==> W1: 3.071130027345265 || W2:  2.31464359748972 || Error = 3.416877614940519e-12\n",
            "EPOCH = 27 ==> W1: 3.0711300495270226 || W2:  2.3146436159745183 || Error = 2.634016272521984e-12\n",
            "EPOCH = 28 ==> W1: 3.071130069002606 || W2:  2.314643632204171 || Error = 2.0305210069498203e-12\n",
            "EPOCH = 29 ==> W1: 3.071130086102168 || W2:  2.3146436464538063 || Error = 1.5652961529167774e-12\n",
            "EPOCH = 30 ==> W1: 3.0711301011155836 || W2:  2.314643658964986 || Error = 1.2066617570318287e-12\n",
            "EPOCH = 31 ==> W1: 3.0711301142973624 || W2:  2.3146436699498016 || Error = 9.30196242099607e-13\n",
            "EPOCH = 32 ==> W1: 3.071130125870964 || W2:  2.31464367959447 || Error = 7.170734032040024e-13\n",
            "EPOCH = 33 ==> W1: 3.071130136032586 || W2:  2.3146436880624885 || Error = 5.527804101435543e-13\n",
            "EPOCH = 34 ==> W1: 3.0711301449544908 || W2:  2.314643695497409 || Error = 4.261295796672645e-13\n",
            "EPOCH = 35 ==> W1: 3.071130152787923 || W2:  2.314643702025269 || Error = 3.284964716994202e-13\n",
            "EPOCH = 36 ==> W1: 3.0711301596656764 || W2:  2.31464370775673 || Error = 2.532326754482674e-13\n",
            "EPOCH = 37 ==> W1: 3.0711301657043437 || W2:  2.314643712788953 || Error = 1.952130175479477e-13\n",
            "EPOCH = 38 ==> W1: 3.0711301710062937 || W2:  2.3146437172072445 || Error = 1.5048659301018832e-13\n",
            "EPOCH = 39 ==> W1: 3.071130175661406 || W2:  2.3146437210865045 || Error = 1.1600770640789097e-13\n",
            "EPOCH = 40 ==> W1: 3.0711301797485944 || W2:  2.314643724492495 || Error = 8.942848486128248e-14\n",
            "EPOCH = 41 ==> W1: 3.071130183337146 || W2:  2.3146437274829545 || Error = 6.893898884766455e-14\n",
            "EPOCH = 42 ==> W1: 3.071130186487894 || W2:  2.3146437301085783 || Error = 5.3143962338786446e-14\n",
            "EPOCH = 43 ==> W1: 3.071130189254251 || W2:  2.3146437324138756 || Error = 4.0967831972124773e-14\n",
            "EPOCH = 44 ==> W1: 3.0711301916831126 || W2:  2.3146437344379267 || Error = 3.1581445010197575e-14\n",
            "EPOCH = 45 ==> W1: 3.071130193815653 || W2:  2.314643736215044 || Error = 2.4345630730630433e-14\n",
            "EPOCH = 46 ==> W1: 3.0711301956880233 || W2:  2.3146437377753526 || Error = 1.876765685751144e-14\n",
            "EPOCH = 47 ==> W1: 3.0711301973319642 || W2:  2.3146437391453034 || Error = 1.4467686751318662e-14\n",
            "EPOCH = 48 ==> W1: 3.0711301987753448 || W2:  2.3146437403481204 || Error = 1.115290758527072e-14\n",
            "EPOCH = 49 ==> W1: 3.071130200042633 || W2:  2.314643741404194 || Error = 8.597598037317361e-15\n",
            "EPOCH = 50 ==> W1: 3.0711302011553117 || W2:  2.3146437423314263 || Error = 6.627750152231835e-15\n",
            "EPOCH = 51 ==> W1: 3.0711302021322435 || W2:  2.3146437431455364 || Error = 5.109227196417944e-15\n",
            "EPOCH = 52 ==> W1: 3.07113020298999 || W2:  2.314643743860325 || Error = 3.938621150261552e-15\n",
            "EPOCH = 53 ==> W1: 3.071130203743091 || W2:  2.3146437444879093 || Error = 3.036220159132863e-15\n",
            "EPOCH = 54 ==> W1: 3.071130204404314 || W2:  2.3146437450389286 || Error = 2.3405733954000797e-15\n",
            "EPOCH = 55 ==> W1: 3.071130204984868 || W2:  2.3146437455227233 || Error = 1.804310443106726e-15\n",
            "EPOCH = 56 ==> W1: 3.071130205494594 || W2:  2.314643745947495 || Error = 1.3909140420840068e-15\n",
            "EPOCH = 57 ==> W1: 3.0711302059421333 || W2:  2.314643746320445 || Error = 1.0722333701805378e-15\n",
            "EPOCH = 58 ==> W1: 3.071130206335073 || W2:  2.3146437466478944 || Error = 8.265676927439856e-16\n",
            "EPOCH = 59 ==> W1: 3.071130206680074 || W2:  2.314643746935395 || Error = 6.371877342810637e-16\n",
            "EPOCH = 60 ==> W1: 3.071130206982985 || W2:  2.3146437471878207 || Error = 4.911979534457761e-16\n",
            "EPOCH = 61 ==> W1: 3.071130207248941 || W2:  2.3146437474094506 || Error = 3.786567498848621e-16\n",
            "EPOCH = 62 ==> W1: 3.07113020748245 || W2:  2.3146437476040416 || Error = 2.9190038409021835e-16\n",
            "EPOCH = 63 ==> W1: 3.071130207687471 || W2:  2.3146437477748925 || Error = 2.25021354021876e-16\n",
            "EPOCH = 64 ==> W1: 3.0711302078674794 || W2:  2.3146437479248996 || Error = 1.734654223027024e-16\n",
            "EPOCH = 65 ==> W1: 3.0711302080255267 || W2:  2.3146437480566058 || Error = 1.3372168935536715e-16\n",
            "EPOCH = 66 ==> W1: 3.0711302081642926 || W2:  2.314643748172244 || Error = 1.0308388235324247e-16\n",
            "EPOCH = 67 ==> W1: 3.071130208286129 || W2:  2.3146437482737743 || Error = 7.946573355264265e-17\n",
            "EPOCH = 68 ==> W1: 3.071130208393101 || W2:  2.3146437483629176 || Error = 6.125883451515341e-17\n",
            "EPOCH = 69 ==> W1: 3.071130208487023 || W2:  2.3146437484411857 || Error = 4.722350314019195e-17\n",
            "EPOCH = 70 ==> W1: 3.0711302085694863 || W2:  2.314643748509905 || Error = 3.6403796522552495e-17\n",
            "EPOCH = 71 ==> W1: 3.071130208641889 || W2:  2.3146437485702407 || Error = 2.806314154282826e-17\n",
            "EPOCH = 72 ==> W1: 3.0711302087054584 || W2:  2.314643748623215 || Error = 2.163341649394448e-17\n",
            "EPOCH = 73 ==> W1: 3.0711302087612724 || W2:  2.314643748669727 || Error = 1.6676856323483656e-17\n",
            "EPOCH = 74 ==> W1: 3.071130208810277 || W2:  2.314643748710564 || Error = 1.285594963246331e-17\n",
            "EPOCH = 75 ==> W1: 3.0711302088533032 || W2:  2.3146437487464193 || Error = 9.910413397441024e-18\n",
            "EPOCH = 76 ==> W1: 3.07113020889108 || W2:  2.3146437487779 || Error = 7.639797425505398e-18\n",
            "EPOCH = 77 ==> W1: 3.0711302089242483 || W2:  2.31464374880554 || Error = 5.889401805980185e-18\n",
            "EPOCH = 78 ==> W1: 3.07113020895337 || W2:  2.314643748829808 || Error = 4.540053070588872e-18\n",
            "EPOCH = 79 ==> W1: 3.0711302089789387 || W2:  2.3146437488511156 || Error = 3.499860917651306e-18\n",
            "EPOCH = 80 ==> W1: 3.0711302090013883 || W2:  2.3146437488698233 || Error = 2.6979854064584046e-18\n",
            "EPOCH = 81 ==> W1: 3.071130209021099 || W2:  2.314643748886249 || Error = 2.0798362004083146e-18\n",
            "EPOCH = 82 ==> W1: 3.071130209038405 || W2:  2.3146437489006706 || Error = 1.6033018870168794e-18\n",
            "EPOCH = 83 ==> W1: 3.0711302090535995 || W2:  2.314643748913333 || Error = 1.2359580024132186e-18\n",
            "EPOCH = 84 ==> W1: 3.0711302090669403 || W2:  2.3146437489244502 || Error = 9.527869901868433e-19\n",
            "EPOCH = 85 ==> W1: 3.0711302090786536 || W2:  2.3146437489342113 || Error = 7.344852013893804e-19\n",
            "EPOCH = 86 ==> W1: 3.071130209088938 || W2:  2.3146437489427814 || Error = 5.662032107828259e-19\n",
            "EPOCH = 87 ==> W1: 3.0711302090979675 || W2:  2.314643748950306 || Error = 4.364751182229421e-19\n",
            "EPOCH = 88 ==> W1: 3.0711302091058954 || W2:  2.3146437489569127 || Error = 3.364763012293815e-19\n",
            "EPOCH = 89 ==> W1: 3.071130209112856 || W2:  2.3146437489627134 || Error = 2.5938212705993384e-19\n",
            "EPOCH = 90 ==> W1: 3.0711302091189676 || W2:  2.3146437489678062 || Error = 1.999541289645306e-19\n",
            "EPOCH = 91 ==> W1: 3.0711302091243335 || W2:  2.3146437489722778 || Error = 1.5414291727138381e-19\n",
            "EPOCH = 92 ==> W1: 3.071130209129045 || W2:  2.314643748976204 || Error = 1.1882684749005776e-19\n",
            "EPOCH = 93 ==> W1: 3.0711302091331816 || W2:  2.314643748979651 || Error = 9.160045960542604e-20\n",
            "EPOCH = 94 ==> W1: 3.0711302091368133 || W2:  2.3146437489826774 || Error = 7.061366856757208e-20\n",
            "EPOCH = 95 ==> W1: 3.0711302091400023 || W2:  2.314643748985335 || Error = 5.44336774215045e-20\n",
            "EPOCH = 96 ==> W1: 3.071130209142802 || W2:  2.314643748987668 || Error = 4.19618501237037e-20\n",
            "EPOCH = 97 ==> W1: 3.07113020914526 || W2:  2.3146437489897167 || Error = 3.2348227494719115e-20\n",
            "EPOCH = 98 ==> W1: 3.071130209147418 || W2:  2.3146437489915153 || Error = 2.49370115158772e-20\n",
            "EPOCH = 99 ==> W1: 3.071130209149313 || W2:  2.3146437489930944 || Error = 1.9223324480430706e-20\n"
          ]
        }
      ],
      "source": [
        "lr = 0.001 # play with learing rate\n",
        "e = []\n",
        "\n",
        "for epoch in range(100):\n",
        "    y_pred = w1*x1 + w2*x2\n",
        "    error = (y - y_pred)**2\n",
        "    e.append(error)\n",
        "    print(\"EPOCH =\",epoch,\"==> W1:\", w1, \"|| W2: \", w2, \"|| Error =\", error)\n",
        "    dEw1 = 2*(y - y_pred)*(-x1)\n",
        "    dEw2 = 2*(y - y_pred)*(-x2)\n",
        "\n",
        "    w1 = w1 - lr*dEw1 # Wnew = Wold – (α * dL/dw)\n",
        "    w2 = w2 - lr*dEw2\n"
      ]
    },
    {
      "cell_type": "code",
      "execution_count": 11,
      "metadata": {
        "ExecuteTime": {
          "end_time": "2019-03-30T07:05:07.993697Z",
          "start_time": "2019-03-30T07:05:07.982760Z"
        },
        "colab": {
          "base_uri": "https://localhost:8080/"
        },
        "id": "3S4Y1BotxxpR",
        "outputId": "b25eb73b-f37b-4520-9a14-b0c3725259fb"
      },
      "outputs": [
        {
          "output_type": "stream",
          "name": "stdout",
          "text": [
            "3.0711302091509767 2.314643748994481\n"
          ]
        }
      ],
      "source": [
        "print(w1, w2)"
      ]
    },
    {
      "cell_type": "code",
      "execution_count": 12,
      "metadata": {
        "ExecuteTime": {
          "end_time": "2019-03-30T07:05:08.003905Z",
          "start_time": "2019-03-30T07:05:07.996265Z"
        },
        "colab": {
          "base_uri": "https://localhost:8080/"
        },
        "id": "4KvAv4ApxxpS",
        "outputId": "5be733a7-aa50-4cad-9bca-bdad944d51b9"
      },
      "outputs": [
        {
          "output_type": "execute_result",
          "data": {
            "text/plain": [
              "29.999999999878266"
            ]
          },
          "metadata": {},
          "execution_count": 12
        }
      ],
      "source": [
        "x1*w1 + x2*w2"
      ]
    },
    {
      "cell_type": "markdown",
      "metadata": {
        "id": "atn6Dk6YCXJx"
      },
      "source": [
        "#### Outcome\n",
        "\n",
        "1. We illustrated stochastic gradient with simple example\n",
        "2. Effect of learning rate on convergence\n",
        "\n",
        "#### Todo\n",
        "\n",
        "1. Plot error vs epochs for a fixed learning rate\n",
        "2. Plot Error vs learning rate for a fixed number of iterations\n"
      ]
    },
    {
      "cell_type": "code",
      "execution_count": 13,
      "metadata": {
        "id": "H3AwiYXPxxpS"
      },
      "outputs": [],
      "source": [
        "# Plot of Epochs Vs Error for a fixed learning rate"
      ]
    },
    {
      "cell_type": "code",
      "execution_count": 14,
      "metadata": {
        "colab": {
          "base_uri": "https://localhost:8080/",
          "height": 472
        },
        "id": "By4sFXDpxxpS",
        "outputId": "f4888d6b-f393-4c88-cab1-aaaf3c466361"
      },
      "outputs": [
        {
          "output_type": "display_data",
          "data": {
            "text/plain": [
              "<Figure size 640x480 with 1 Axes>"
            ],
            "image/png": "[encoded data removed]"
          },
          "metadata": {}
        }
      ],
      "source": [
        "plt.plot(epoch)\n",
        "plt.plot(e)\n",
        "plt.title('model loss')\n",
        "plt.ylabel('loss')\n",
        "plt.xlabel('epoch')\n",
        "plt.show()"
      ]
    },
    {
      "cell_type": "code",
      "source": [
        "# Plot Error vs Learning rate for a fixed number of iterations"
      ],
      "metadata": {
        "id": "PGdJvym10_4y"
      },
      "execution_count": 15,
      "outputs": []
    },
    {
      "cell_type": "code",
      "source": [
        "plt.plot(lr)\n",
        "plt.plot(e)\n",
        "plt.title('Error vs learning rate')\n",
        "plt.xlabel('lr')\n",
        "plt.ylabel('Error')\n",
        "plt.show()"
      ],
      "metadata": {
        "colab": {
          "base_uri": "https://localhost:8080/",
          "height": 472
        },
        "id": "p2DoDPDY9EUF",
        "outputId": "09868977-c27b-4a63-c035-4544a5d683b1"
      },
      "execution_count": 16,
      "outputs": [
        {
          "output_type": "display_data",
          "data": {
            "text/plain": [
              "<Figure size 640x480 with 1 Axes>"
            ],
            "image/png": "[encoded data removed]"
          },
          "metadata": {}
        }
      ]
    },
    {
      "cell_type": "markdown",
      "source": [
        "### EXAMPLE : Plot Error vs different Learning Rates for a fixed number of iterations"
      ],
      "metadata": {
        "id": "lPCgLMpa_bzn"
      }
    },
    {
      "cell_type": "code",
      "source": [
        "# Define the number of iterations\n",
        "num_iterations = 1000\n",
        "\n",
        "# Define a range of learning rates to try\n",
        "learning_rates = np.linspace(0.01, 1, num=20)\n",
        "\n",
        "# Define a function to calculate the error for a given learning rate\n",
        "def calculate_error(learning_rate):\n",
        "\n",
        "    # Initialize the parameters\n",
        "    params = np.random.randn(2)\n",
        "\n",
        "    for i in range(num_iterations):\n",
        "\n",
        "        # Generate some synthetic data\n",
        "        X = np.random.randn(100, 2)\n",
        "        y = X.dot(params) + np.random.randn(100)\n",
        "\n",
        "        # Predict the target values\n",
        "        y_pred = X.dot(params)\n",
        "\n",
        "        # Calculate the MSE error\n",
        "        error = 0.5 * np.sum((y - y_pred)**2)\n",
        "\n",
        "        # Update the parameters\n",
        "        params = params - learning_rate * 2 * X.T.dot(y_pred - y) / X.shape[0]\n",
        "\n",
        "    return error\n",
        "\n",
        "# Calculate the error for each learning rate\n",
        "errors = [calculate_error(lr) for lr in learning_rates]\n",
        "\n",
        "# Plot the relationship between error and learning rate\n",
        "plt.plot(learning_rates, errors)\n",
        "plt.xlabel('Learning Rate')\n",
        "plt.ylabel('Error')\n",
        "plt.show()"
      ],
      "metadata": {
        "colab": {
          "base_uri": "https://localhost:8080/",
          "height": 449
        },
        "id": "SKJeictI3vN0",
        "outputId": "1093d470-99fc-4f95-f452-5bd2b1fa0b64"
      },
      "execution_count": 17,
      "outputs": [
        {
          "output_type": "display_data",
          "data": {
            "text/plain": [
              "<Figure size 640x480 with 1 Axes>"
            ],
            "image/png": "[encoded data removed]"
          },
          "metadata": {}
        }
      ]
    },
    {
      "cell_type": "code",
      "source": [],
      "metadata": {
        "id": "FqQE4iNg-x4b"
      },
      "execution_count": null,
      "outputs": []
    }
  ],
  "metadata": {
    "kernelspec": {
      "display_name": "Python 3",
      "language": "python",
      "name": "python3"
    },
    "language_info": {
      "codemirror_mode": {
        "name": "ipython",
        "version": 3
      },
      "file_extension": ".py",
      "mimetype": "text/x-python",
      "name": "python",
      "nbconvert_exporter": "python",
      "pygments_lexer": "ipython3",
      "version": "3.8.8"
    },
    "varInspector": {
      "cols": {
        "lenName": 16,
        "lenType": 16,
        "lenVar": 40
      },
      "kernels_config": {
        "python": {
          "delete_cmd_postfix": "",
          "delete_cmd_prefix": "del ",
          "library": "var_list.py",
          "varRefreshCmd": "print(var_dic_list())"
        },
        "r": {
          "delete_cmd_postfix": ") ",
          "delete_cmd_prefix": "rm(",
          "library": "var_list.r",
          "varRefreshCmd": "cat(var_dic_list()) "
        }
      },
      "types_to_exclude": [
        "module",
        "function",
        "builtin_function_or_method",
        "instance",
        "_Feature"
      ],
      "window_display": false
    },
    "colab": {
      "provenance": [],
      "include_colab_link": true
    }
  },
  "nbformat": 4,
  "nbformat_minor": 0
}