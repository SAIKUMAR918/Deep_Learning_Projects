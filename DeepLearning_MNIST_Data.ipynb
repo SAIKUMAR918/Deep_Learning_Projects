{
  "cells": [
    {
      "cell_type": "markdown",
      "metadata": {
        "id": "view-in-github",
        "colab_type": "text"
      },
      "source": [
        "<a href=\"https://colab.research.google.com/github/SAIKUMAR918/Deep_Learning_Projects/blob/main/DeepLearning_MNIST_Data.ipynb\" target=\"_parent\"><img src=\"https://colab.research.google.com/assets/colab-badge.svg\" alt=\"Open In Colab\"/></a>"
      ]
    },
    {
      "cell_type": "markdown",
      "metadata": {
        "id": "0lskYy4R24zI"
      },
      "source": [
        "# Deep-Learning using MNIST Dataset\n"
      ]
    },
    {
      "cell_type": "code",
      "execution_count": null,
      "metadata": {
        "id": "GnLfzb8v24zO"
      },
      "outputs": [],
      "source": [
        "import warnings\n",
        "warnings.filterwarnings('ignore')"
      ]
    },
    {
      "cell_type": "code",
      "execution_count": null,
      "metadata": {
        "id": "8h3bkobb24zQ"
      },
      "outputs": [],
      "source": [
        "import numpy as np\n",
        "import keras\n",
        "from keras.datasets import mnist\n",
        "from keras.utils import np_utils\n",
        "from keras.models import Sequential\n",
        "from keras.layers.core import Dense, Dropout, Activation\n",
        "from keras.layers import BatchNormalization\n",
        "from keras.regularizers import l2\n",
        "import matplotlib.pyplot as plt"
      ]
    },
    {
      "cell_type": "markdown",
      "metadata": {
        "id": "d_k0OPbi24zR"
      },
      "source": [
        "## Loading MNIST Data from Keras"
      ]
    },
    {
      "cell_type": "code",
      "execution_count": null,
      "metadata": {
        "colab": {
          "base_uri": "https://localhost:8080/"
        },
        "id": "lDRoClk624zT",
        "outputId": "54efd9ca-1938-43f8-cd3b-398a4aa01fa7"
      },
      "outputs": [
        {
          "output_type": "stream",
          "name": "stdout",
          "text": [
            "Downloading data from https://storage.googleapis.com/tensorflow/tf-keras-datasets/mnist.npz\n",
            "11490434/11490434 [==============================] - 0s 0us/step\n"
          ]
        }
      ],
      "source": [
        "(x_train, y_train), (x_test, y_test) = mnist.load_data()"
      ]
    },
    {
      "cell_type": "code",
      "execution_count": null,
      "metadata": {
        "colab": {
          "base_uri": "https://localhost:8080/",
          "height": 268
        },
        "id": "VeZKmx_m24zU",
        "outputId": "d4d2d148-f382-4291-ea36-19d1906a6a4d"
      },
      "outputs": [
        {
          "output_type": "display_data",
          "data": {
            "text/plain": [
              "<Figure size 432x288 with 9 Axes>"
            ],
            "image/png": "[encoded data removed]"
          },
          "metadata": {
            "needs_background": "light"
          }
        }
      ],
      "source": [
        "for i in range(9):\n",
        "    plt.subplot(330+1+i)\n",
        "    plt.imshow(x_train[i], cmap=plt.get_cmap('Oranges'))\n",
        "plt.show()"
      ]
    },
    {
      "cell_type": "code",
      "execution_count": null,
      "metadata": {
        "colab": {
          "base_uri": "https://localhost:8080/"
        },
        "id": "lngfzPyy24zV",
        "outputId": "c21847e5-5f7d-4bc3-d8c8-f52a682b5c67"
      },
      "outputs": [
        {
          "output_type": "stream",
          "name": "stdout",
          "text": [
            "(60000, 28, 28)\n",
            "(10000, 28, 28)\n"
          ]
        }
      ],
      "source": [
        "print(x_train.shape)\n",
        "print(x_test.shape)"
      ]
    },
    {
      "cell_type": "markdown",
      "metadata": {
        "id": "akb7shQN24zW"
      },
      "source": [
        "## Normalizing"
      ]
    },
    {
      "cell_type": "code",
      "execution_count": null,
      "metadata": {
        "id": "r-D8-Ear24zX"
      },
      "outputs": [],
      "source": [
        "x_train = x_train.astype('float32')/255.\n",
        "x_test = x_test.astype('float32')/255."
      ]
    },
    {
      "cell_type": "code",
      "execution_count": null,
      "metadata": {
        "colab": {
          "base_uri": "https://localhost:8080/"
        },
        "id": "7VcO8qkA24zX",
        "outputId": "96e6e19c-bd22-4e4c-b22b-2444cae6a94a"
      },
      "outputs": [
        {
          "output_type": "stream",
          "name": "stdout",
          "text": [
            "(60000, 28, 28)\n",
            "(10000, 28, 28)\n"
          ]
        }
      ],
      "source": [
        "print (x_train.shape)\n",
        "print (x_test.shape)"
      ]
    },
    {
      "cell_type": "code",
      "execution_count": null,
      "metadata": {
        "colab": {
          "base_uri": "https://localhost:8080/"
        },
        "id": "8SpFOIMv24zY",
        "outputId": "d58a400c-809c-4db2-c998-43abbe5b364c"
      },
      "outputs": [
        {
          "output_type": "stream",
          "name": "stdout",
          "text": [
            "60000\n"
          ]
        }
      ],
      "source": [
        "print(x_train.shape[0])"
      ]
    },
    {
      "cell_type": "code",
      "execution_count": null,
      "metadata": {
        "colab": {
          "base_uri": "https://localhost:8080/"
        },
        "id": "T9mPr4N424zY",
        "outputId": "81e15cc7-567e-41db-c706-53fabacd8218"
      },
      "outputs": [
        {
          "output_type": "stream",
          "name": "stdout",
          "text": [
            "(28, 28)\n"
          ]
        }
      ],
      "source": [
        "print((x_train.shape[1:]))"
      ]
    },
    {
      "cell_type": "code",
      "execution_count": null,
      "metadata": {
        "colab": {
          "base_uri": "https://localhost:8080/"
        },
        "id": "O5C7JXJx24zZ",
        "outputId": "816a3d5e-b2f3-4365-9969-d54beaabc934"
      },
      "outputs": [
        {
          "output_type": "stream",
          "name": "stdout",
          "text": [
            "784\n"
          ]
        }
      ],
      "source": [
        "print(np.prod(x_train.shape[1:]))"
      ]
    },
    {
      "cell_type": "code",
      "execution_count": null,
      "metadata": {
        "colab": {
          "base_uri": "https://localhost:8080/"
        },
        "id": "JuFS8Amn24zZ",
        "outputId": "a2886cfc-d2a7-4659-a768-b48cbec268bd"
      },
      "outputs": [
        {
          "output_type": "stream",
          "name": "stdout",
          "text": [
            "(60000, 784)\n",
            "(10000, 784)\n"
          ]
        }
      ],
      "source": [
        "x_train = x_train.reshape(x_train.shape[0], np.prod(x_train.shape[1:]))\n",
        "x_test = x_test.reshape(x_test.shape[0], np.prod(x_test.shape[1:]))\n",
        "\n",
        "print (x_train.shape)\n",
        "print (x_test.shape)"
      ]
    },
    {
      "cell_type": "code",
      "execution_count": null,
      "metadata": {
        "colab": {
          "base_uri": "https://localhost:8080/"
        },
        "id": "_EJIN7lT24za",
        "outputId": "508d786c-17b3-4299-c5c4-41f6bf0513cb",
        "scrolled": true
      },
      "outputs": [
        {
          "output_type": "stream",
          "name": "stdout",
          "text": [
            "[5 0 4 ... 5 6 8]\n",
            "(60000,)\n"
          ]
        }
      ],
      "source": [
        "print(y_train)\n",
        "print(y_train.shape)"
      ]
    },
    {
      "cell_type": "markdown",
      "metadata": {
        "id": "mYvJBdEJ24za"
      },
      "source": [
        "## One hot encoding the Target variable"
      ]
    },
    {
      "cell_type": "code",
      "execution_count": null,
      "metadata": {
        "id": "wuxpcknk24zb"
      },
      "outputs": [],
      "source": [
        "n_classes = 10\n",
        "y_train = np_utils.to_categorical(y_train, n_classes)\n",
        "y_test = np_utils.to_categorical(y_test, n_classes)"
      ]
    },
    {
      "cell_type": "code",
      "execution_count": null,
      "metadata": {
        "colab": {
          "base_uri": "https://localhost:8080/"
        },
        "id": "qdtot7GG24zb",
        "outputId": "6870d3c3-41bd-4367-80cf-fbc6d6d07188"
      },
      "outputs": [
        {
          "output_type": "stream",
          "name": "stdout",
          "text": [
            "[[0. 0. 0. ... 0. 0. 0.]\n",
            " [1. 0. 0. ... 0. 0. 0.]\n",
            " [0. 0. 0. ... 0. 0. 0.]\n",
            " ...\n",
            " [0. 0. 0. ... 0. 0. 0.]\n",
            " [0. 0. 0. ... 0. 0. 0.]\n",
            " [0. 0. 0. ... 0. 1. 0.]]\n",
            "(60000, 10)\n"
          ]
        }
      ],
      "source": [
        "print(y_train)\n",
        "print(y_train.shape)"
      ]
    },
    {
      "cell_type": "markdown",
      "metadata": {
        "id": "420DeviJ24zd"
      },
      "source": [
        "# Neural Network Architecture"
      ]
    },
    {
      "cell_type": "markdown",
      "metadata": {
        "id": "bJ5W-4pd24zd"
      },
      "source": [
        "## 1. Basic Network with 1 Hidden Layer"
      ]
    },
    {
      "cell_type": "code",
      "execution_count": null,
      "metadata": {
        "id": "HaRAfcKa24zd"
      },
      "outputs": [],
      "source": [
        "model1 = Sequential()"
      ]
    },
    {
      "cell_type": "code",
      "execution_count": null,
      "metadata": {
        "id": "KgwJgQsa24ze"
      },
      "outputs": [],
      "source": [
        "model1.add(Dense(512, input_shape = (784,), activation= 'sigmoid'))\n",
        "model1.add(Dense(n_classes, activation = 'softmax'))"
      ]
    },
    {
      "cell_type": "code",
      "execution_count": null,
      "metadata": {
        "id": "ZqTALYgX24ze"
      },
      "outputs": [],
      "source": [
        "model1.compile(optimizer=\"sgd\", loss = 'categorical_crossentropy', metrics = ['accuracy'])"
      ]
    },
    {
      "cell_type": "code",
      "execution_count": null,
      "metadata": {
        "colab": {
          "base_uri": "https://localhost:8080/"
        },
        "id": "cUhOKvOD24ze",
        "outputId": "7993b752-fac2-4d45-9020-340b7fc1fa27",
        "scrolled": false
      },
      "outputs": [
        {
          "output_type": "stream",
          "name": "stdout",
          "text": [
            "Model: \"sequential\"\n",
            "_________________________________________________________________\n",
            " Layer (type)                Output Shape              Param #   \n",
            "=================================================================\n",
            " dense (Dense)               (None, 512)               401920    \n",
            "                                                                 \n",
            " dense_1 (Dense)             (None, 10)                5130      \n",
            "                                                                 \n",
            "=================================================================\n",
            "Total params: 407,050\n",
            "Trainable params: 407,050\n",
            "Non-trainable params: 0\n",
            "_________________________________________________________________\n"
          ]
        }
      ],
      "source": [
        "model1.summary()"
      ]
    },
    {
      "cell_type": "code",
      "execution_count": null,
      "metadata": {
        "colab": {
          "base_uri": "https://localhost:8080/"
        },
        "id": "kQtZEeNJ24zf",
        "outputId": "2ca7c4e4-f6c6-4450-d6cc-c0b88b48de78"
      },
      "outputs": [
        {
          "output_type": "execute_result",
          "data": {
            "text/plain": [
              "401920"
            ]
          },
          "metadata": {},
          "execution_count": 26
        }
      ],
      "source": [
        "784*512 + 512"
      ]
    },
    {
      "cell_type": "code",
      "execution_count": null,
      "metadata": {
        "colab": {
          "base_uri": "https://localhost:8080/"
        },
        "id": "1XvJm2xU24zf",
        "outputId": "9155b92e-7e71-4b92-a571-d205a951856c",
        "scrolled": true
      },
      "outputs": [
        {
          "output_type": "stream",
          "name": "stdout",
          "text": [
            "Epoch 1/10\n",
            "469/469 [==============================] - 3s 5ms/step - loss: 1.9584 - accuracy: 0.5343 - val_loss: 1.6220 - val_accuracy: 0.7198\n",
            "Epoch 2/10\n",
            "469/469 [==============================] - 2s 5ms/step - loss: 1.3910 - accuracy: 0.7567 - val_loss: 1.1653 - val_accuracy: 0.7955\n",
            "Epoch 3/10\n",
            "469/469 [==============================] - 2s 5ms/step - loss: 1.0410 - accuracy: 0.8069 - val_loss: 0.9009 - val_accuracy: 0.8297\n",
            "Epoch 4/10\n",
            "469/469 [==============================] - 3s 6ms/step - loss: 0.8390 - accuracy: 0.8312 - val_loss: 0.7476 - val_accuracy: 0.8492\n",
            "Epoch 5/10\n",
            "469/469 [==============================] - 2s 5ms/step - loss: 0.7173 - accuracy: 0.8449 - val_loss: 0.6501 - val_accuracy: 0.8615\n",
            "Epoch 6/10\n",
            "469/469 [==============================] - 2s 5ms/step - loss: 0.6380 - accuracy: 0.8550 - val_loss: 0.5857 - val_accuracy: 0.8701\n",
            "Epoch 7/10\n",
            "469/469 [==============================] - 2s 5ms/step - loss: 0.5827 - accuracy: 0.8623 - val_loss: 0.5389 - val_accuracy: 0.8753\n",
            "Epoch 8/10\n",
            "469/469 [==============================] - 3s 7ms/step - loss: 0.5419 - accuracy: 0.8679 - val_loss: 0.5038 - val_accuracy: 0.8801\n",
            "Epoch 9/10\n",
            "469/469 [==============================] - 3s 5ms/step - loss: 0.5107 - accuracy: 0.8723 - val_loss: 0.4767 - val_accuracy: 0.8831\n",
            "Epoch 10/10\n",
            "469/469 [==============================] - 2s 5ms/step - loss: 0.4861 - accuracy: 0.8768 - val_loss: 0.4544 - val_accuracy: 0.8861\n"
          ]
        }
      ],
      "source": [
        "history = model1.fit(x_train, y_train, batch_size=128, epochs=10, verbose=True, validation_data= (x_test, y_test)) #validation_split=.1\n",
        "loss, accuracy  = model1.evaluate(x_test, y_test, verbose=False)"
      ]
    },
    {
      "cell_type": "code",
      "execution_count": null,
      "metadata": {
        "colab": {
          "base_uri": "https://localhost:8080/",
          "height": 297
        },
        "id": "KRXYY5R324zf",
        "outputId": "9607d0a7-5f74-40e2-fe7c-0c2fcf6245a8"
      },
      "outputs": [
        {
          "output_type": "display_data",
          "data": {
            "text/plain": [
              "<Figure size 432x288 with 2 Axes>"
            ],
            "image/png": "[encoded data removed]"
          },
          "metadata": {
            "needs_background": "light"
          }
        }
      ],
      "source": [
        "fig = plt.figure()\n",
        "plt.subplot(2,1,1)\n",
        "plt.plot(history.history['accuracy'])\n",
        "plt.plot(history.history['val_accuracy'])\n",
        "plt.title('model accuracy')\n",
        "plt.ylabel('accuracy')\n",
        "plt.xlabel('epoch')\n",
        "plt.legend(['train', 'test'], loc='lower right')\n",
        "\n",
        "plt.subplot(2,1,2)\n",
        "plt.plot(history.history['loss'])\n",
        "plt.plot(history.history['val_loss'])\n",
        "plt.title('model loss')\n",
        "plt.ylabel('loss')\n",
        "plt.xlabel('epoch')\n",
        "plt.legend(['train', 'test'], loc='upper right')\n",
        "\n",
        "plt.tight_layout()"
      ]
    },
    {
      "cell_type": "markdown",
      "metadata": {
        "id": "Mv19EPHm24zf"
      },
      "source": [
        "## Model Evaluation"
      ]
    },
    {
      "cell_type": "code",
      "execution_count": null,
      "metadata": {
        "colab": {
          "base_uri": "https://localhost:8080/"
        },
        "id": "1HSeh55N24zg",
        "outputId": "0619d308-d1a4-4c52-d2e1-d00d58998b03"
      },
      "outputs": [
        {
          "output_type": "stream",
          "name": "stdout",
          "text": [
            "1875/1875 - 3s - loss: 0.4749 - accuracy: 0.8777 - 3s/epoch - 1ms/step\n",
            "Train Loss 0.4749339818954468\n",
            "Train Accuracy 0.8776999711990356\n"
          ]
        }
      ],
      "source": [
        "loss_and_metrics = model1.evaluate(x_train, y_train, verbose=2)\n",
        "\n",
        "print(\"Train Loss\", loss_and_metrics[0])\n",
        "print(\"Train Accuracy\", loss_and_metrics[1])"
      ]
    },
    {
      "cell_type": "code",
      "execution_count": null,
      "metadata": {
        "colab": {
          "base_uri": "https://localhost:8080/"
        },
        "id": "jbwnslX024zg",
        "outputId": "95313ac3-56ae-438f-8075-b638d3a37a6c"
      },
      "outputs": [
        {
          "output_type": "stream",
          "name": "stdout",
          "text": [
            "313/313 - 1s - loss: 0.4544 - accuracy: 0.8861 - 508ms/epoch - 2ms/step\n",
            "Test Loss 0.45444658398628235\n",
            "Test Accuracy 0.8860999941825867\n"
          ]
        }
      ],
      "source": [
        "loss_and_metrics = model1.evaluate(x_test, y_test, verbose=2)\n",
        "\n",
        "print(\"Test Loss\", loss_and_metrics[0])\n",
        "print(\"Test Accuracy\", loss_and_metrics[1])"
      ]
    },
    {
      "cell_type": "markdown",
      "metadata": {
        "id": "svUqltpi24zg"
      },
      "source": [
        "## 2. Network with 2 Hidden Layers"
      ]
    },
    {
      "cell_type": "code",
      "execution_count": null,
      "metadata": {
        "id": "qljiOdJq24zg"
      },
      "outputs": [],
      "source": [
        "model2= Sequential()"
      ]
    },
    {
      "cell_type": "code",
      "execution_count": null,
      "metadata": {
        "colab": {
          "base_uri": "https://localhost:8080/"
        },
        "id": "qFAbtkmH24zh",
        "outputId": "d26fe8e8-bd75-48cd-8ed0-069d74119213"
      },
      "outputs": [
        {
          "output_type": "stream",
          "name": "stdout",
          "text": [
            "Model: \"sequential_1\"\n",
            "_________________________________________________________________\n",
            " Layer (type)                Output Shape              Param #   \n",
            "=================================================================\n",
            " dense_2 (Dense)             (None, 512)               401920    \n",
            "                                                                 \n",
            " dense_3 (Dense)             (None, 100)               51300     \n",
            "                                                                 \n",
            " dense_4 (Dense)             (None, 10)                1010      \n",
            "                                                                 \n",
            "=================================================================\n",
            "Total params: 454,230\n",
            "Trainable params: 454,230\n",
            "Non-trainable params: 0\n",
            "_________________________________________________________________\n"
          ]
        }
      ],
      "source": [
        "model2.add(Dense(512, input_shape = (784,), activation= 'sigmoid'))\n",
        "model2.add(Dense(100, activation = 'sigmoid'))\n",
        "model2.add(Dense(n_classes, activation = 'softmax'))\n",
        "model2.compile(optimizer=\"sgd\", loss = 'categorical_crossentropy', metrics = ['accuracy'])\n",
        "model2.summary()"
      ]
    },
    {
      "cell_type": "code",
      "execution_count": null,
      "metadata": {
        "colab": {
          "base_uri": "https://localhost:8080/"
        },
        "id": "DVl90uQr24zh",
        "outputId": "75641ccf-cd7b-4c3b-ad15-57a41bcba7ea"
      },
      "outputs": [
        {
          "output_type": "stream",
          "name": "stdout",
          "text": [
            "Epoch 1/10\n",
            "469/469 [==============================] - 3s 6ms/step - loss: 2.2690 - accuracy: 0.2161 - val_loss: 2.2197 - val_accuracy: 0.3507\n",
            "Epoch 2/10\n",
            "469/469 [==============================] - 3s 6ms/step - loss: 2.1743 - accuracy: 0.4565 - val_loss: 2.1183 - val_accuracy: 0.5022\n",
            "Epoch 3/10\n",
            "469/469 [==============================] - 3s 6ms/step - loss: 2.0538 - accuracy: 0.5766 - val_loss: 1.9721 - val_accuracy: 0.6210\n",
            "Epoch 4/10\n",
            "469/469 [==============================] - 3s 7ms/step - loss: 1.8824 - accuracy: 0.6340 - val_loss: 1.7706 - val_accuracy: 0.6790\n",
            "Epoch 5/10\n",
            "469/469 [==============================] - 3s 6ms/step - loss: 1.6645 - accuracy: 0.6722 - val_loss: 1.5371 - val_accuracy: 0.7114\n",
            "Epoch 6/10\n",
            "469/469 [==============================] - 3s 6ms/step - loss: 1.4353 - accuracy: 0.7090 - val_loss: 1.3151 - val_accuracy: 0.7332\n",
            "Epoch 7/10\n",
            "469/469 [==============================] - 3s 6ms/step - loss: 1.2347 - accuracy: 0.7396 - val_loss: 1.1352 - val_accuracy: 0.7648\n",
            "Epoch 8/10\n",
            "469/469 [==============================] - 3s 7ms/step - loss: 1.0775 - accuracy: 0.7662 - val_loss: 0.9987 - val_accuracy: 0.7760\n",
            "Epoch 9/10\n",
            "469/469 [==============================] - 3s 6ms/step - loss: 0.9577 - accuracy: 0.7875 - val_loss: 0.8945 - val_accuracy: 0.7999\n",
            "Epoch 10/10\n",
            "469/469 [==============================] - 3s 6ms/step - loss: 0.8649 - accuracy: 0.8043 - val_loss: 0.8118 - val_accuracy: 0.8158\n",
            "313/313 [==============================] - 1s 2ms/step - loss: 0.8118 - accuracy: 0.8158\n"
          ]
        }
      ],
      "source": [
        "history = model2.fit(x_train, y_train, batch_size=128, epochs=10, verbose=True, validation_data= (x_test, y_test)) #validation_split=.1\n",
        "loss, accuracy  = model2.evaluate(x_test, y_test, verbose=True)"
      ]
    },
    {
      "cell_type": "code",
      "execution_count": null,
      "metadata": {
        "colab": {
          "base_uri": "https://localhost:8080/",
          "height": 297
        },
        "id": "rVhmX1Ih24zh",
        "outputId": "dc51ba26-38ac-4fe7-cf46-bfe1ba1ce6c0"
      },
      "outputs": [
        {
          "output_type": "display_data",
          "data": {
            "text/plain": [
              "<Figure size 432x288 with 2 Axes>"
            ],
            "image/png": "[encoded data removed]"
          },
          "metadata": {
            "needs_background": "light"
          }
        }
      ],
      "source": [
        "fig = plt.figure()\n",
        "plt.subplot(2,1,1)\n",
        "plt.plot(history.history['accuracy'])\n",
        "plt.plot(history.history['val_accuracy'])\n",
        "plt.title('model accuracy')\n",
        "plt.ylabel('accuracy')\n",
        "plt.xlabel('epoch')\n",
        "plt.legend(['train', 'test'], loc='lower right')\n",
        "\n",
        "plt.subplot(2,1,2)\n",
        "plt.plot(history.history['loss'])\n",
        "plt.plot(history.history['val_loss'])\n",
        "plt.title('model loss')\n",
        "plt.ylabel('loss')\n",
        "plt.xlabel('epoch')\n",
        "plt.legend(['train', 'test'], loc='upper right')\n",
        "\n",
        "plt.tight_layout()"
      ]
    },
    {
      "cell_type": "markdown",
      "metadata": {
        "id": "lG2r3wjc24zh"
      },
      "source": [
        "## Model Evaluation"
      ]
    },
    {
      "cell_type": "code",
      "execution_count": null,
      "metadata": {
        "colab": {
          "base_uri": "https://localhost:8080/"
        },
        "id": "b9tmAch124zi",
        "outputId": "b4eac577-8e79-480b-df2d-cc03c2a41da5"
      },
      "outputs": [
        {
          "output_type": "stream",
          "name": "stdout",
          "text": [
            "1875/1875 - 3s - loss: 0.8250 - accuracy: 0.8109 - 3s/epoch - 1ms/step\n",
            "Train Loss 0.8249685168266296\n",
            "Train Accuracy 0.8109333515167236\n"
          ]
        }
      ],
      "source": [
        "loss_and_metrics = model2.evaluate(x_train, y_train, verbose=2)\n",
        "\n",
        "print(\"Train Loss\", loss_and_metrics[0])\n",
        "print(\"Train Accuracy\", loss_and_metrics[1])"
      ]
    },
    {
      "cell_type": "code",
      "execution_count": null,
      "metadata": {
        "colab": {
          "base_uri": "https://localhost:8080/"
        },
        "id": "bPQ-BxBD24zi",
        "outputId": "c4c5c5a1-85fc-4ef6-9560-64eeb2c1061a"
      },
      "outputs": [
        {
          "output_type": "stream",
          "name": "stdout",
          "text": [
            "313/313 - 0s - loss: 0.8118 - accuracy: 0.8158 - 445ms/epoch - 1ms/step\n",
            "Test Loss 0.8117652535438538\n",
            "Test Accuracy 0.8158000111579895\n"
          ]
        }
      ],
      "source": [
        "loss_and_metrics = model2.evaluate(x_test, y_test, verbose=2)\n",
        "\n",
        "print(\"Test Loss\", loss_and_metrics[0])\n",
        "print(\"Test Accuracy\", loss_and_metrics[1])"
      ]
    },
    {
      "cell_type": "markdown",
      "metadata": {
        "id": "um_wMw8w24zi"
      },
      "source": [
        "## 3. Network with 3 Hidden Layers"
      ]
    },
    {
      "cell_type": "code",
      "execution_count": null,
      "metadata": {
        "id": "Lbc3Xs5324zi"
      },
      "outputs": [],
      "source": [
        "model3= Sequential()"
      ]
    },
    {
      "cell_type": "code",
      "execution_count": null,
      "metadata": {
        "colab": {
          "base_uri": "https://localhost:8080/"
        },
        "id": "j47Fcrqk24zi",
        "outputId": "7cf48ea0-c5b6-4d44-d1d4-f3ca34b2c7d8"
      },
      "outputs": [
        {
          "output_type": "stream",
          "name": "stdout",
          "text": [
            "Model: \"sequential_2\"\n",
            "_________________________________________________________________\n",
            " Layer (type)                Output Shape              Param #   \n",
            "=================================================================\n",
            " dense_5 (Dense)             (None, 512)               401920    \n",
            "                                                                 \n",
            " dense_6 (Dense)             (None, 100)               51300     \n",
            "                                                                 \n",
            " dense_7 (Dense)             (None, 100)               10100     \n",
            "                                                                 \n",
            " dense_8 (Dense)             (None, 10)                1010      \n",
            "                                                                 \n",
            "=================================================================\n",
            "Total params: 464,330\n",
            "Trainable params: 464,330\n",
            "Non-trainable params: 0\n",
            "_________________________________________________________________\n"
          ]
        }
      ],
      "source": [
        "model3.add(Dense(512, input_shape = (784,), activation= 'sigmoid'))\n",
        "model3.add(Dense(100, activation = 'sigmoid'))\n",
        "model3.add(Dense(100, activation = 'sigmoid'))\n",
        "model3.add(Dense(n_classes, activation = 'softmax'))\n",
        "model3.compile(optimizer=\"sgd\", loss = 'categorical_crossentropy', metrics = ['accuracy'])\n",
        "model3.summary()"
      ]
    },
    {
      "cell_type": "code",
      "execution_count": null,
      "metadata": {
        "colab": {
          "base_uri": "https://localhost:8080/"
        },
        "id": "Jl4EMtrk24zj",
        "outputId": "8c819cbe-e322-440d-8e23-8ba63f49ae19"
      },
      "outputs": [
        {
          "output_type": "stream",
          "name": "stdout",
          "text": [
            "Epoch 1/10\n",
            "469/469 [==============================] - 4s 7ms/step - loss: 2.3116 - accuracy: 0.1154 - val_loss: 2.2971 - val_accuracy: 0.1135\n",
            "Epoch 2/10\n",
            "469/469 [==============================] - 3s 6ms/step - loss: 2.2954 - accuracy: 0.1189 - val_loss: 2.2932 - val_accuracy: 0.1152\n",
            "Epoch 3/10\n",
            "469/469 [==============================] - 3s 6ms/step - loss: 2.2909 - accuracy: 0.1277 - val_loss: 2.2891 - val_accuracy: 0.1135\n",
            "Epoch 4/10\n",
            "469/469 [==============================] - 3s 6ms/step - loss: 2.2860 - accuracy: 0.1275 - val_loss: 2.2825 - val_accuracy: 0.1135\n",
            "Epoch 5/10\n",
            "469/469 [==============================] - 3s 7ms/step - loss: 2.2803 - accuracy: 0.1432 - val_loss: 2.2760 - val_accuracy: 0.1144\n",
            "Epoch 6/10\n",
            "469/469 [==============================] - 3s 6ms/step - loss: 2.2733 - accuracy: 0.1717 - val_loss: 2.2682 - val_accuracy: 0.1342\n",
            "Epoch 7/10\n",
            "469/469 [==============================] - 3s 6ms/step - loss: 2.2651 - accuracy: 0.2039 - val_loss: 2.2588 - val_accuracy: 0.2037\n",
            "Epoch 8/10\n",
            "469/469 [==============================] - 3s 6ms/step - loss: 2.2545 - accuracy: 0.2521 - val_loss: 2.2468 - val_accuracy: 0.2226\n",
            "Epoch 9/10\n",
            "469/469 [==============================] - 3s 7ms/step - loss: 2.2408 - accuracy: 0.3034 - val_loss: 2.2313 - val_accuracy: 0.2519\n",
            "Epoch 10/10\n",
            "469/469 [==============================] - 3s 6ms/step - loss: 2.2225 - accuracy: 0.3410 - val_loss: 2.2090 - val_accuracy: 0.4514\n",
            "313/313 [==============================] - 1s 2ms/step - loss: 2.2090 - accuracy: 0.4514\n"
          ]
        }
      ],
      "source": [
        "history = model3.fit(x_train, y_train, batch_size=128, epochs=10, verbose=True, validation_data= (x_test, y_test)) #validation_split=.1\n",
        "loss, accuracy  = model3.evaluate(x_test, y_test, verbose=True)"
      ]
    },
    {
      "cell_type": "code",
      "execution_count": null,
      "metadata": {
        "colab": {
          "base_uri": "https://localhost:8080/",
          "height": 297
        },
        "id": "9_SQc1VT24zj",
        "outputId": "c7786407-9fc5-4599-af8c-ef17c1396be3"
      },
      "outputs": [
        {
          "output_type": "display_data",
          "data": {
            "text/plain": [
              "<Figure size 432x288 with 2 Axes>"
            ],
            "image/png": "[encoded data removed]"
          },
          "metadata": {
            "needs_background": "light"
          }
        }
      ],
      "source": [
        "fig = plt.figure()\n",
        "plt.subplot(2,1,1)\n",
        "plt.plot(history.history['accuracy'])\n",
        "plt.plot(history.history['val_accuracy'])\n",
        "plt.title('model accuracy')\n",
        "plt.ylabel('accuracy')\n",
        "plt.xlabel('epoch')\n",
        "plt.legend(['train', 'test'], loc='lower right')\n",
        "\n",
        "plt.subplot(2,1,2)\n",
        "plt.plot(history.history['loss'])\n",
        "plt.plot(history.history['val_loss'])\n",
        "plt.title('model loss')\n",
        "plt.ylabel('loss')\n",
        "plt.xlabel('epoch')\n",
        "plt.legend(['train', 'test'], loc='upper right')\n",
        "\n",
        "plt.tight_layout()"
      ]
    },
    {
      "cell_type": "markdown",
      "metadata": {
        "id": "3q69aQgz24zk"
      },
      "source": [
        "## Model Evaluation"
      ]
    },
    {
      "cell_type": "code",
      "execution_count": null,
      "metadata": {
        "colab": {
          "base_uri": "https://localhost:8080/"
        },
        "id": "2PJPyQYl24zk",
        "outputId": "7b1679a9-272f-4a5b-c80c-03a6f9cbfc80"
      },
      "outputs": [
        {
          "output_type": "stream",
          "name": "stdout",
          "text": [
            "1875/1875 - 3s - loss: 2.2108 - accuracy: 0.4395 - 3s/epoch - 1ms/step\n",
            "Train Loss 2.210811138153076\n",
            "Train Accuracy 0.43951666355133057\n"
          ]
        }
      ],
      "source": [
        "loss_and_metrics = model3.evaluate(x_train, y_train, verbose=2)\n",
        "\n",
        "print(\"Train Loss\", loss_and_metrics[0])\n",
        "print(\"Train Accuracy\", loss_and_metrics[1])"
      ]
    },
    {
      "cell_type": "code",
      "execution_count": null,
      "metadata": {
        "colab": {
          "base_uri": "https://localhost:8080/"
        },
        "id": "EmdK3WdD24zk",
        "outputId": "c278a482-0bee-435e-eb0e-f675dfaafd8f"
      },
      "outputs": [
        {
          "output_type": "stream",
          "name": "stdout",
          "text": [
            "313/313 - 1s - loss: 2.2090 - accuracy: 0.4514 - 504ms/epoch - 2ms/step\n",
            "Test Loss 2.2089970111846924\n",
            "Test Accuracy 0.4514000117778778\n"
          ]
        }
      ],
      "source": [
        "loss_and_metrics = model3.evaluate(x_test, y_test, verbose=2)\n",
        "\n",
        "print(\"Test Loss\", loss_and_metrics[0])\n",
        "print(\"Test Accuracy\", loss_and_metrics[1])"
      ]
    },
    {
      "cell_type": "markdown",
      "metadata": {
        "id": "DWh9vJFR24zl"
      },
      "source": [
        "## 4. Network with 2 layers and ReLU as an activation func for 1 layer"
      ]
    },
    {
      "cell_type": "code",
      "execution_count": null,
      "metadata": {
        "id": "B4T-r5Rh24zl"
      },
      "outputs": [],
      "source": [
        "model4= Sequential()"
      ]
    },
    {
      "cell_type": "code",
      "execution_count": null,
      "metadata": {
        "colab": {
          "base_uri": "https://localhost:8080/"
        },
        "id": "phHgwjk824zl",
        "outputId": "5fb24be6-39fe-4713-e612-985ec8062e21"
      },
      "outputs": [
        {
          "output_type": "stream",
          "name": "stdout",
          "text": [
            "Model: \"sequential_3\"\n",
            "_________________________________________________________________\n",
            " Layer (type)                Output Shape              Param #   \n",
            "=================================================================\n",
            " dense_9 (Dense)             (None, 512)               401920    \n",
            "                                                                 \n",
            " dense_10 (Dense)            (None, 100)               51300     \n",
            "                                                                 \n",
            " dense_11 (Dense)            (None, 10)                1010      \n",
            "                                                                 \n",
            "=================================================================\n",
            "Total params: 454,230\n",
            "Trainable params: 454,230\n",
            "Non-trainable params: 0\n",
            "_________________________________________________________________\n"
          ]
        }
      ],
      "source": [
        "model4.add(Dense(512, input_shape = (784,), activation= 'sigmoid'))\n",
        "model4.add(Dense(100, activation = 'relu'))\n",
        "model4.add(Dense(n_classes, activation = 'softmax'))\n",
        "model4.compile(optimizer=\"sgd\", loss = 'categorical_crossentropy', metrics = ['accuracy'])\n",
        "model4.summary()"
      ]
    },
    {
      "cell_type": "code",
      "execution_count": null,
      "metadata": {
        "colab": {
          "base_uri": "https://localhost:8080/"
        },
        "id": "aHGEI0Y124zl",
        "outputId": "f20e9a8c-fcca-46f2-b9bc-d5c093996577"
      },
      "outputs": [
        {
          "output_type": "stream",
          "name": "stdout",
          "text": [
            "Epoch 1/10\n",
            "469/469 [==============================] - 3s 6ms/step - loss: 1.8975 - accuracy: 0.5424 - val_loss: 1.4741 - val_accuracy: 0.6958\n",
            "Epoch 2/10\n",
            "469/469 [==============================] - 3s 6ms/step - loss: 1.1580 - accuracy: 0.7593 - val_loss: 0.8847 - val_accuracy: 0.8088\n",
            "Epoch 3/10\n",
            "469/469 [==============================] - 3s 6ms/step - loss: 0.7641 - accuracy: 0.8206 - val_loss: 0.6448 - val_accuracy: 0.8446\n",
            "Epoch 4/10\n",
            "469/469 [==============================] - 3s 7ms/step - loss: 0.5984 - accuracy: 0.8471 - val_loss: 0.5284 - val_accuracy: 0.8647\n",
            "Epoch 5/10\n",
            "469/469 [==============================] - 3s 6ms/step - loss: 0.5130 - accuracy: 0.8636 - val_loss: 0.4639 - val_accuracy: 0.8763\n",
            "Epoch 6/10\n",
            "469/469 [==============================] - 3s 6ms/step - loss: 0.4615 - accuracy: 0.8747 - val_loss: 0.4220 - val_accuracy: 0.8867\n",
            "Epoch 7/10\n",
            "469/469 [==============================] - 3s 6ms/step - loss: 0.4275 - accuracy: 0.8823 - val_loss: 0.3951 - val_accuracy: 0.8908\n",
            "Epoch 8/10\n",
            "469/469 [==============================] - 3s 7ms/step - loss: 0.4037 - accuracy: 0.8874 - val_loss: 0.3760 - val_accuracy: 0.8942\n",
            "Epoch 9/10\n",
            "469/469 [==============================] - 3s 6ms/step - loss: 0.3859 - accuracy: 0.8914 - val_loss: 0.3613 - val_accuracy: 0.8971\n",
            "Epoch 10/10\n",
            "469/469 [==============================] - 3s 6ms/step - loss: 0.3723 - accuracy: 0.8941 - val_loss: 0.3482 - val_accuracy: 0.9023\n",
            "313/313 [==============================] - 0s 2ms/step - loss: 0.3482 - accuracy: 0.9023\n"
          ]
        }
      ],
      "source": [
        "history = model4.fit(x_train, y_train, batch_size=128, epochs=10, verbose=True, validation_data= (x_test, y_test)) #validation_split=.1\n",
        "loss, accuracy  = model4.evaluate(x_test, y_test, verbose=True)"
      ]
    },
    {
      "cell_type": "code",
      "execution_count": null,
      "metadata": {
        "colab": {
          "base_uri": "https://localhost:8080/",
          "height": 297
        },
        "id": "QrhoaXcx24zl",
        "outputId": "baa2c23e-c1f7-43c5-eb40-a4e06c8963c0"
      },
      "outputs": [
        {
          "output_type": "display_data",
          "data": {
            "text/plain": [
              "<Figure size 432x288 with 2 Axes>"
            ],
            "image/png": "[encoded data removed]"
          },
          "metadata": {
            "needs_background": "light"
          }
        }
      ],
      "source": [
        "fig = plt.figure()\n",
        "plt.subplot(2,1,1)\n",
        "plt.plot(history.history['accuracy'])\n",
        "plt.plot(history.history['val_accuracy'])\n",
        "plt.title('model accuracy')\n",
        "plt.ylabel('accuracy')\n",
        "plt.xlabel('epoch')\n",
        "plt.legend(['train', 'test'], loc='lower right')\n",
        "\n",
        "plt.subplot(2,1,2)\n",
        "plt.plot(history.history['loss'])\n",
        "plt.plot(history.history['val_loss'])\n",
        "plt.title('model loss')\n",
        "plt.ylabel('loss')\n",
        "plt.xlabel('epoch')\n",
        "plt.legend(['train', 'test'], loc='upper right')\n",
        "\n",
        "plt.tight_layout()"
      ]
    },
    {
      "cell_type": "markdown",
      "metadata": {
        "id": "cmRoBDzF24zm"
      },
      "source": [
        "##  Model Evaluation"
      ]
    },
    {
      "cell_type": "code",
      "execution_count": null,
      "metadata": {
        "colab": {
          "base_uri": "https://localhost:8080/"
        },
        "id": "PNdyvXqR24zm",
        "outputId": "d2ddee8c-92b7-4b7a-ea0e-2ed081a4137a"
      },
      "outputs": [
        {
          "output_type": "stream",
          "name": "stdout",
          "text": [
            "1875/1875 - 3s - loss: 0.3643 - accuracy: 0.8968 - 3s/epoch - 1ms/step\n",
            "Train Loss 0.36432331800460815\n",
            "Train Accuracy 0.8968333601951599\n"
          ]
        }
      ],
      "source": [
        "loss_and_metrics = model4.evaluate(x_train, y_train, verbose=2)\n",
        "\n",
        "print(\"Train Loss\", loss_and_metrics[0])\n",
        "print(\"Train Accuracy\", loss_and_metrics[1])"
      ]
    },
    {
      "cell_type": "code",
      "execution_count": null,
      "metadata": {
        "colab": {
          "base_uri": "https://localhost:8080/"
        },
        "id": "LUkMwVlq24zm",
        "outputId": "06248f10-7e67-4bf9-df58-008a803ba828"
      },
      "outputs": [
        {
          "output_type": "stream",
          "name": "stdout",
          "text": [
            "313/313 - 0s - loss: 0.3482 - accuracy: 0.9023 - 441ms/epoch - 1ms/step\n",
            "Test Loss 0.34818360209465027\n",
            "Test Accuracy 0.9023000001907349\n"
          ]
        }
      ],
      "source": [
        "loss_and_metrics = model4.evaluate(x_test, y_test, verbose=2)\n",
        "\n",
        "print(\"Test Loss\", loss_and_metrics[0])\n",
        "print(\"Test Accuracy\", loss_and_metrics[1])"
      ]
    },
    {
      "cell_type": "markdown",
      "metadata": {
        "id": "fHdJ-ek624zm"
      },
      "source": [
        "## 5. Network with 2 layers and ReLU as an activation func for 1 layer and ADAM optimiser"
      ]
    },
    {
      "cell_type": "code",
      "execution_count": null,
      "metadata": {
        "id": "qMneSfQP24zn"
      },
      "outputs": [],
      "source": [
        "model5= Sequential()"
      ]
    },
    {
      "cell_type": "code",
      "execution_count": null,
      "metadata": {
        "colab": {
          "base_uri": "https://localhost:8080/"
        },
        "id": "Wj1Udr7e24zn",
        "outputId": "cdc6fd6a-46ff-4bcf-a203-f209fb36a90d"
      },
      "outputs": [
        {
          "output_type": "stream",
          "name": "stdout",
          "text": [
            "Model: \"sequential_4\"\n",
            "_________________________________________________________________\n",
            " Layer (type)                Output Shape              Param #   \n",
            "=================================================================\n",
            " dense_12 (Dense)            (None, 512)               401920    \n",
            "                                                                 \n",
            " dense_13 (Dense)            (None, 100)               51300     \n",
            "                                                                 \n",
            " dense_14 (Dense)            (None, 10)                1010      \n",
            "                                                                 \n",
            "=================================================================\n",
            "Total params: 454,230\n",
            "Trainable params: 454,230\n",
            "Non-trainable params: 0\n",
            "_________________________________________________________________\n"
          ]
        }
      ],
      "source": [
        "model5.add(Dense(512, input_shape = (784,), activation= 'sigmoid'))\n",
        "model5.add(Dense(100, activation = 'relu'))\n",
        "model5.add(Dense(n_classes, activation = 'softmax'))\n",
        "model5.compile(optimizer=\"adam\", loss = 'categorical_crossentropy', metrics = ['accuracy'])\n",
        "model5.summary()"
      ]
    },
    {
      "cell_type": "code",
      "execution_count": null,
      "metadata": {
        "colab": {
          "base_uri": "https://localhost:8080/"
        },
        "id": "Mins_V0y24zn",
        "outputId": "f4a335ad-b260-4c0f-f7ef-8433cb8253d9"
      },
      "outputs": [
        {
          "output_type": "stream",
          "name": "stdout",
          "text": [
            "Epoch 1/10\n",
            "469/469 [==============================] - 4s 7ms/step - loss: 0.4357 - accuracy: 0.8821 - val_loss: 0.2762 - val_accuracy: 0.9191\n",
            "Epoch 2/10\n",
            "469/469 [==============================] - 3s 7ms/step - loss: 0.2257 - accuracy: 0.9335 - val_loss: 0.1949 - val_accuracy: 0.9421\n",
            "Epoch 3/10\n",
            "469/469 [==============================] - 4s 8ms/step - loss: 0.1671 - accuracy: 0.9508 - val_loss: 0.1584 - val_accuracy: 0.9501\n",
            "Epoch 4/10\n",
            "469/469 [==============================] - 3s 7ms/step - loss: 0.1287 - accuracy: 0.9625 - val_loss: 0.1268 - val_accuracy: 0.9626\n",
            "Epoch 5/10\n",
            "469/469 [==============================] - 3s 6ms/step - loss: 0.1018 - accuracy: 0.9699 - val_loss: 0.1131 - val_accuracy: 0.9646\n",
            "Epoch 6/10\n",
            "469/469 [==============================] - 3s 7ms/step - loss: 0.0810 - accuracy: 0.9758 - val_loss: 0.0986 - val_accuracy: 0.9698\n",
            "Epoch 7/10\n",
            "469/469 [==============================] - 4s 8ms/step - loss: 0.0673 - accuracy: 0.9793 - val_loss: 0.0976 - val_accuracy: 0.9710\n",
            "Epoch 8/10\n",
            "469/469 [==============================] - 3s 7ms/step - loss: 0.0562 - accuracy: 0.9824 - val_loss: 0.0837 - val_accuracy: 0.9740\n",
            "Epoch 9/10\n",
            "469/469 [==============================] - 3s 7ms/step - loss: 0.0456 - accuracy: 0.9861 - val_loss: 0.0883 - val_accuracy: 0.9735\n",
            "Epoch 10/10\n",
            "469/469 [==============================] - 3s 7ms/step - loss: 0.0381 - accuracy: 0.9880 - val_loss: 0.0777 - val_accuracy: 0.9768\n",
            "313/313 [==============================] - 1s 2ms/step - loss: 0.0777 - accuracy: 0.9768\n"
          ]
        }
      ],
      "source": [
        "history = model5.fit(x_train, y_train, batch_size=128, epochs=10, verbose=True, validation_data= (x_test, y_test)) #validation_split=.1\n",
        "loss, accuracy  = model5.evaluate(x_test, y_test, verbose=True)"
      ]
    },
    {
      "cell_type": "code",
      "execution_count": null,
      "metadata": {
        "colab": {
          "base_uri": "https://localhost:8080/",
          "height": 297
        },
        "id": "UwfT_dea24zn",
        "outputId": "58835b7f-4297-4bb9-fba4-5bc910ca4335"
      },
      "outputs": [
        {
          "output_type": "display_data",
          "data": {
            "text/plain": [
              "<Figure size 432x288 with 2 Axes>"
            ],
            "image/png": "[encoded data removed]"
          },
          "metadata": {
            "needs_background": "light"
          }
        }
      ],
      "source": [
        "fig = plt.figure()\n",
        "plt.subplot(2,1,1)\n",
        "plt.plot(history.history['accuracy'])\n",
        "plt.plot(history.history['val_accuracy'])\n",
        "plt.title('model accuracy')\n",
        "plt.ylabel('accuracy')\n",
        "plt.xlabel('epoch')\n",
        "plt.legend(['train', 'test'], loc='lower right')\n",
        "\n",
        "plt.subplot(2,1,2)\n",
        "plt.plot(history.history['loss'])\n",
        "plt.plot(history.history['val_loss'])\n",
        "plt.title('model loss')\n",
        "plt.ylabel('loss')\n",
        "plt.xlabel('epoch')\n",
        "plt.legend(['train', 'test'], loc='upper right')\n",
        "\n",
        "plt.tight_layout()"
      ]
    },
    {
      "cell_type": "markdown",
      "metadata": {
        "id": "K__FnnXq24zo"
      },
      "source": [
        "##  Model Evaluation"
      ]
    },
    {
      "cell_type": "code",
      "execution_count": null,
      "metadata": {
        "colab": {
          "base_uri": "https://localhost:8080/"
        },
        "id": "Yqrl1AIB24zo",
        "outputId": "3c692c29-303e-4855-c9d7-26cdef303364"
      },
      "outputs": [
        {
          "output_type": "stream",
          "name": "stdout",
          "text": [
            "1875/1875 - 3s - loss: 0.0311 - accuracy: 0.9910 - 3s/epoch - 2ms/step\n",
            "Train Loss 0.031148038804531097\n",
            "Train Accuracy 0.9909666776657104\n"
          ]
        }
      ],
      "source": [
        "loss_and_metrics = model5.evaluate(x_train, y_train, verbose=2)\n",
        "\n",
        "print(\"Train Loss\", loss_and_metrics[0])\n",
        "print(\"Train Accuracy\", loss_and_metrics[1])"
      ]
    },
    {
      "cell_type": "code",
      "execution_count": null,
      "metadata": {
        "colab": {
          "base_uri": "https://localhost:8080/"
        },
        "id": "sEen8KfN24zo",
        "outputId": "e0427d99-b193-4359-e6a1-692bef93b5ca"
      },
      "outputs": [
        {
          "output_type": "stream",
          "name": "stdout",
          "text": [
            "313/313 - 0s - loss: 0.0777 - accuracy: 0.9768 - 455ms/epoch - 1ms/step\n",
            "Test Loss 0.07770291715860367\n",
            "Test Accuracy 0.9768000245094299\n"
          ]
        }
      ],
      "source": [
        "loss_and_metrics = model5.evaluate(x_test, y_test, verbose=2)\n",
        "\n",
        "print(\"Test Loss\", loss_and_metrics[0])\n",
        "print(\"Test Accuracy\", loss_and_metrics[1])"
      ]
    },
    {
      "cell_type": "markdown",
      "metadata": {
        "id": "MDmY61kS24zo"
      },
      "source": [
        "## 6. Network with BatchNormalization"
      ]
    },
    {
      "cell_type": "code",
      "execution_count": null,
      "metadata": {
        "id": "_MU6GsKc24zo"
      },
      "outputs": [],
      "source": [
        "model6= Sequential()"
      ]
    },
    {
      "cell_type": "code",
      "execution_count": null,
      "metadata": {
        "colab": {
          "base_uri": "https://localhost:8080/"
        },
        "id": "YT8z2TMd24zp",
        "outputId": "1dce6c3d-7004-4817-e03f-0a5eafe8868c"
      },
      "outputs": [
        {
          "output_type": "stream",
          "name": "stdout",
          "text": [
            "Model: \"sequential_5\"\n",
            "_________________________________________________________________\n",
            " Layer (type)                Output Shape              Param #   \n",
            "=================================================================\n",
            " dense_15 (Dense)            (None, 512)               401920    \n",
            "                                                                 \n",
            " batch_normalization (BatchN  (None, 512)              2048      \n",
            " ormalization)                                                   \n",
            "                                                                 \n",
            " dense_16 (Dense)            (None, 100)               51300     \n",
            "                                                                 \n",
            " batch_normalization_1 (Batc  (None, 100)              400       \n",
            " hNormalization)                                                 \n",
            "                                                                 \n",
            " dense_17 (Dense)            (None, 10)                1010      \n",
            "                                                                 \n",
            "=================================================================\n",
            "Total params: 456,678\n",
            "Trainable params: 455,454\n",
            "Non-trainable params: 1,224\n",
            "_________________________________________________________________\n"
          ]
        }
      ],
      "source": [
        "model6.add(Dense(512, input_shape = (784,), activation= 'sigmoid'))\n",
        "model6.add(BatchNormalization())\n",
        "model6.add(Dense(100, activation = 'relu'))\n",
        "model6.add(BatchNormalization())\n",
        "model6.add(Dense(n_classes, activation = 'softmax'))\n",
        "model6.compile(optimizer=\"adam\", loss = 'categorical_crossentropy', metrics = ['accuracy'])\n",
        "model6.summary()"
      ]
    },
    {
      "cell_type": "code",
      "execution_count": null,
      "metadata": {
        "colab": {
          "base_uri": "https://localhost:8080/"
        },
        "id": "G15kadpX24zp",
        "outputId": "4aed5fdc-0958-4abd-a60b-da57d26448c0"
      },
      "outputs": [
        {
          "output_type": "stream",
          "name": "stdout",
          "text": [
            "Epoch 1/10\n",
            "469/469 [==============================] - 5s 8ms/step - loss: 0.2252 - accuracy: 0.9344 - val_loss: 0.1952 - val_accuracy: 0.9519\n",
            "Epoch 2/10\n",
            "469/469 [==============================] - 4s 8ms/step - loss: 0.1119 - accuracy: 0.9677 - val_loss: 0.0999 - val_accuracy: 0.9698\n",
            "Epoch 3/10\n",
            "469/469 [==============================] - 4s 8ms/step - loss: 0.0802 - accuracy: 0.9768 - val_loss: 0.0852 - val_accuracy: 0.9744\n",
            "Epoch 4/10\n",
            "469/469 [==============================] - 4s 7ms/step - loss: 0.0629 - accuracy: 0.9817 - val_loss: 0.0801 - val_accuracy: 0.9755\n",
            "Epoch 5/10\n",
            "469/469 [==============================] - 4s 8ms/step - loss: 0.0513 - accuracy: 0.9845 - val_loss: 0.0755 - val_accuracy: 0.9757\n",
            "Epoch 6/10\n",
            "469/469 [==============================] - 4s 9ms/step - loss: 0.0414 - accuracy: 0.9875 - val_loss: 0.0822 - val_accuracy: 0.9747\n",
            "Epoch 7/10\n",
            "469/469 [==============================] - 4s 8ms/step - loss: 0.0352 - accuracy: 0.9888 - val_loss: 0.0752 - val_accuracy: 0.9744\n",
            "Epoch 8/10\n",
            "469/469 [==============================] - 4s 7ms/step - loss: 0.0300 - accuracy: 0.9908 - val_loss: 0.0818 - val_accuracy: 0.9750\n",
            "Epoch 9/10\n",
            "469/469 [==============================] - 4s 9ms/step - loss: 0.0253 - accuracy: 0.9924 - val_loss: 0.0711 - val_accuracy: 0.9784\n",
            "Epoch 10/10\n",
            "469/469 [==============================] - 4s 8ms/step - loss: 0.0226 - accuracy: 0.9927 - val_loss: 0.0710 - val_accuracy: 0.9781\n",
            "313/313 [==============================] - 1s 2ms/step - loss: 0.0710 - accuracy: 0.9781\n"
          ]
        }
      ],
      "source": [
        "history = model6.fit(x_train, y_train, batch_size=128, epochs=10, verbose=True, validation_data= (x_test, y_test)) #validation_split=.1\n",
        "loss, accuracy  = model6.evaluate(x_test, y_test, verbose=True)"
      ]
    },
    {
      "cell_type": "code",
      "execution_count": null,
      "metadata": {
        "colab": {
          "base_uri": "https://localhost:8080/",
          "height": 297
        },
        "id": "YHFwh3ZQ24zp",
        "outputId": "e5985f3e-43bd-435c-877e-13ac149022e1"
      },
      "outputs": [
        {
          "output_type": "display_data",
          "data": {
            "text/plain": [
              "<Figure size 432x288 with 2 Axes>"
            ],
            "image/png": "[encoded data removed]"
          },
          "metadata": {
            "needs_background": "light"
          }
        }
      ],
      "source": [
        "fig = plt.figure()\n",
        "plt.subplot(2,1,1)\n",
        "plt.plot(history.history['accuracy'])\n",
        "plt.plot(history.history['val_accuracy'])\n",
        "plt.title('model accuracy')\n",
        "plt.ylabel('accuracy')\n",
        "plt.xlabel('epoch')\n",
        "plt.legend(['train', 'test'], loc='lower right')\n",
        "\n",
        "plt.subplot(2,1,2)\n",
        "plt.plot(history.history['loss'])\n",
        "plt.plot(history.history['val_loss'])\n",
        "plt.title('model loss')\n",
        "plt.ylabel('loss')\n",
        "plt.xlabel('epoch')\n",
        "plt.legend(['train', 'test'], loc='upper right')\n",
        "\n",
        "plt.tight_layout()"
      ]
    },
    {
      "cell_type": "markdown",
      "metadata": {
        "id": "EFZn_nT-24zp"
      },
      "source": [
        "## Model Evaluation"
      ]
    },
    {
      "cell_type": "code",
      "execution_count": null,
      "metadata": {
        "colab": {
          "base_uri": "https://localhost:8080/"
        },
        "id": "9c9DqNEX24zq",
        "outputId": "e5a07fd2-647f-4be2-8535-d472c8299aab"
      },
      "outputs": [
        {
          "output_type": "stream",
          "name": "stdout",
          "text": [
            "1875/1875 - 3s - loss: 0.0135 - accuracy: 0.9962 - 3s/epoch - 2ms/step\n",
            "Train Loss 0.013507287949323654\n",
            "Train Accuracy 0.9961833357810974\n"
          ]
        }
      ],
      "source": [
        "loss_and_metrics = model6.evaluate(x_train, y_train, verbose=2)\n",
        "\n",
        "print(\"Train Loss\", loss_and_metrics[0])\n",
        "print(\"Train Accuracy\", loss_and_metrics[1])"
      ]
    },
    {
      "cell_type": "code",
      "execution_count": null,
      "metadata": {
        "colab": {
          "base_uri": "https://localhost:8080/"
        },
        "id": "2y4GXRsQ24zq",
        "outputId": "f2c7f190-3b41-41ac-f50e-07eb6528ea4d"
      },
      "outputs": [
        {
          "output_type": "stream",
          "name": "stdout",
          "text": [
            "313/313 - 0s - loss: 0.0710 - accuracy: 0.9781 - 441ms/epoch - 1ms/step\n",
            "Test Loss 0.07096682488918304\n",
            "Test Accuracy 0.9781000018119812\n"
          ]
        }
      ],
      "source": [
        "loss_and_metrics = model6.evaluate(x_test, y_test, verbose=2)\n",
        "\n",
        "print(\"Test Loss\", loss_and_metrics[0])\n",
        "print(\"Test Accuracy\", loss_and_metrics[1])"
      ]
    },
    {
      "cell_type": "markdown",
      "metadata": {
        "id": "HiRl6_nS24zq"
      },
      "source": [
        "## 7. Network with Dropout, L2 regularizer, kernel initializer"
      ]
    },
    {
      "cell_type": "code",
      "execution_count": null,
      "metadata": {
        "id": "byYvju1524zr"
      },
      "outputs": [],
      "source": [
        "model7= Sequential()"
      ]
    },
    {
      "cell_type": "code",
      "execution_count": null,
      "metadata": {
        "colab": {
          "base_uri": "https://localhost:8080/"
        },
        "id": "1VgufNf124zr",
        "outputId": "36cb3191-31a4-40e4-9984-b9652fe1b8f9"
      },
      "outputs": [
        {
          "output_type": "stream",
          "name": "stdout",
          "text": [
            "Model: \"sequential_6\"\n",
            "_________________________________________________________________\n",
            " Layer (type)                Output Shape              Param #   \n",
            "=================================================================\n",
            " dropout (Dropout)           (None, 784)               0         \n",
            "                                                                 \n",
            " dense_18 (Dense)            (None, 512)               401920    \n",
            "                                                                 \n",
            " batch_normalization_2 (Batc  (None, 512)              2048      \n",
            " hNormalization)                                                 \n",
            "                                                                 \n",
            " dropout_1 (Dropout)         (None, 512)               0         \n",
            "                                                                 \n",
            " dense_19 (Dense)            (None, 100)               51300     \n",
            "                                                                 \n",
            " batch_normalization_3 (Batc  (None, 100)              400       \n",
            " hNormalization)                                                 \n",
            "                                                                 \n",
            " dropout_2 (Dropout)         (None, 100)               0         \n",
            "                                                                 \n",
            " dense_20 (Dense)            (None, 10)                1010      \n",
            "                                                                 \n",
            "=================================================================\n",
            "Total params: 456,678\n",
            "Trainable params: 455,454\n",
            "Non-trainable params: 1,224\n",
            "_________________________________________________________________\n"
          ]
        }
      ],
      "source": [
        "model7.add(Dropout(0.2,input_shape=(784,)))\n",
        "model7.add(Dense(512, activation= 'sigmoid',kernel_regularizer=l2(l=0.005),kernel_initializer='uniform'))\n",
        "model7.add(BatchNormalization())\n",
        "model7.add(Dropout(rate=0.5))\n",
        "model7.add(Dense(100, activation = 'relu', kernel_regularizer=l2(l=0.005),kernel_initializer='uniform'))\n",
        "model7.add(BatchNormalization())\n",
        "model7.add(Dropout(rate=0.5))\n",
        "model7.add(Dense(n_classes, activation = 'softmax'))\n",
        "model7.compile(optimizer=\"adam\", loss = 'categorical_crossentropy', metrics = ['accuracy'])\n",
        "model7.summary()"
      ]
    },
    {
      "cell_type": "code",
      "execution_count": null,
      "metadata": {
        "colab": {
          "base_uri": "https://localhost:8080/"
        },
        "id": "4GBTT7nN24zr",
        "outputId": "85904b66-1ece-46e0-9084-ef4c3144fb0a"
      },
      "outputs": [
        {
          "output_type": "stream",
          "name": "stdout",
          "text": [
            "Epoch 1/10\n",
            "469/469 [==============================] - 6s 10ms/step - loss: 1.2468 - accuracy: 0.8393 - val_loss: 0.7752 - val_accuracy: 0.9074\n",
            "Epoch 2/10\n",
            "469/469 [==============================] - 5s 11ms/step - loss: 0.6588 - accuracy: 0.8798 - val_loss: 0.4487 - val_accuracy: 0.9375\n",
            "Epoch 3/10\n",
            "469/469 [==============================] - 4s 9ms/step - loss: 0.6030 - accuracy: 0.8854 - val_loss: 0.4357 - val_accuracy: 0.9376\n",
            "Epoch 4/10\n",
            "469/469 [==============================] - 5s 11ms/step - loss: 0.5973 - accuracy: 0.8878 - val_loss: 0.4523 - val_accuracy: 0.9309\n",
            "Epoch 5/10\n",
            "469/469 [==============================] - 4s 9ms/step - loss: 0.6012 - accuracy: 0.8868 - val_loss: 0.4422 - val_accuracy: 0.9362\n",
            "Epoch 6/10\n",
            "469/469 [==============================] - 4s 10ms/step - loss: 0.5998 - accuracy: 0.8894 - val_loss: 0.4530 - val_accuracy: 0.9325\n",
            "Epoch 7/10\n",
            "469/469 [==============================] - 5s 11ms/step - loss: 0.5977 - accuracy: 0.8899 - val_loss: 0.4359 - val_accuracy: 0.9410\n",
            "Epoch 8/10\n",
            "469/469 [==============================] - 4s 10ms/step - loss: 0.5963 - accuracy: 0.8907 - val_loss: 0.4526 - val_accuracy: 0.9387\n",
            "Epoch 9/10\n",
            "469/469 [==============================] - 5s 11ms/step - loss: 0.5959 - accuracy: 0.8918 - val_loss: 0.4603 - val_accuracy: 0.9337\n",
            "Epoch 10/10\n",
            "469/469 [==============================] - 5s 10ms/step - loss: 0.6014 - accuracy: 0.8905 - val_loss: 0.4616 - val_accuracy: 0.9364\n",
            "313/313 [==============================] - 1s 2ms/step - loss: 0.4616 - accuracy: 0.9364\n"
          ]
        }
      ],
      "source": [
        "history = model7.fit(x_train, y_train, batch_size=128, epochs=10, verbose=True, validation_data= (x_test, y_test)) #validation_split=.1\n",
        "loss, accuracy  = model7.evaluate(x_test, y_test, verbose=True)"
      ]
    },
    {
      "cell_type": "code",
      "execution_count": null,
      "metadata": {
        "colab": {
          "base_uri": "https://localhost:8080/",
          "height": 297
        },
        "id": "pnaWMm8324zs",
        "outputId": "4d54a4f4-be11-4a7a-ba6b-bcee5fcb8f7a"
      },
      "outputs": [
        {
          "output_type": "display_data",
          "data": {
            "text/plain": [
              "<Figure size 432x288 with 2 Axes>"
            ],
            "image/png": "[encoded data removed]"
          },
          "metadata": {
            "needs_background": "light"
          }
        }
      ],
      "source": [
        "fig = plt.figure()\n",
        "plt.subplot(2,1,1)\n",
        "plt.plot(history.history['accuracy'])\n",
        "plt.plot(history.history['val_accuracy'])\n",
        "plt.title('model accuracy')\n",
        "plt.ylabel('accuracy')\n",
        "plt.xlabel('epoch')\n",
        "plt.legend(['train', 'test'], loc='lower right')\n",
        "\n",
        "plt.subplot(2,1,2)\n",
        "plt.plot(history.history['loss'])\n",
        "plt.plot(history.history['val_loss'])\n",
        "plt.title('model loss')\n",
        "plt.ylabel('loss')\n",
        "plt.xlabel('epoch')\n",
        "plt.legend(['train', 'test'], loc='upper right')\n",
        "\n",
        "plt.tight_layout()"
      ]
    },
    {
      "cell_type": "markdown",
      "metadata": {
        "id": "2nqqcNUY24zs"
      },
      "source": [
        "##  Model Evaluation"
      ]
    },
    {
      "cell_type": "code",
      "execution_count": null,
      "metadata": {
        "colab": {
          "base_uri": "https://localhost:8080/"
        },
        "id": "c6sWzFmC24zt",
        "outputId": "b2ab7b77-562a-4ccf-95a1-8ff94574f4c2"
      },
      "outputs": [
        {
          "output_type": "stream",
          "name": "stdout",
          "text": [
            "1875/1875 - 3s - loss: 0.4610 - accuracy: 0.9372 - 3s/epoch - 2ms/step\n",
            "Train Loss 0.46096372604370117\n",
            "Train Accuracy 0.9372166395187378\n"
          ]
        }
      ],
      "source": [
        "loss_and_metrics = model7.evaluate(x_train, y_train, verbose=2)\n",
        "\n",
        "print(\"Train Loss\", loss_and_metrics[0])\n",
        "print(\"Train Accuracy\", loss_and_metrics[1])"
      ]
    },
    {
      "cell_type": "code",
      "execution_count": null,
      "metadata": {
        "colab": {
          "base_uri": "https://localhost:8080/"
        },
        "id": "eOsPnrnh24zt",
        "outputId": "161a2f8e-71a4-4a66-c6e2-c60976fa5446"
      },
      "outputs": [
        {
          "output_type": "stream",
          "name": "stdout",
          "text": [
            "313/313 - 1s - loss: 0.4616 - accuracy: 0.9364 - 653ms/epoch - 2ms/step\n",
            "Test Loss 0.46162816882133484\n",
            "Test Accuracy 0.9363999962806702\n"
          ]
        }
      ],
      "source": [
        "loss_and_metrics = model7.evaluate(x_test, y_test, verbose=2)\n",
        "\n",
        "print(\"Test Loss\", loss_and_metrics[0])\n",
        "print(\"Test Accuracy\", loss_and_metrics[1])"
      ]
    }
  ],
  "metadata": {
    "colab": {
      "provenance": [],
      "include_colab_link": true
    },
    "kernelspec": {
      "display_name": "Python 3 (ipykernel)",
      "language": "python",
      "name": "python3"
    },
    "language_info": {
      "codemirror_mode": {
        "name": "ipython",
        "version": 3
      },
      "file_extension": ".py",
      "mimetype": "text/x-python",
      "name": "python",
      "nbconvert_exporter": "python",
      "pygments_lexer": "ipython3",
      "version": "3.9.7"
    }
  },
  "nbformat": 4,
  "nbformat_minor": 0
}